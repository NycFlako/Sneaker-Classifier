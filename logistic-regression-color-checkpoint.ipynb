{
 "cells": [
  {
   "cell_type": "code",
   "execution_count": 62,
   "id": "eb5a7a70",
   "metadata": {},
   "outputs": [],
   "source": [
    "import cv2\n",
    "import os\n",
    "import keras\n",
    "import random\n",
    "import sklearn\n",
    "import numpy as np\n",
    "import pandas as pd\n",
    "import seaborn as sns\n",
    "import tensorflow as tf\n",
    "import matplotlib.pyplot as plt \n",
    "from keras.models import Sequential\n",
    "from keras.utils import to_categorical \n",
    "#from keras.preprocessing.image import load_img\n",
    "from sklearn.metrics import classification_report\n",
    "##from keras.preprocessing.image import img_to_array\n",
    "from sklearn.model_selection import train_test_split\n",
    "from keras.preprocessing.image import ImageDataGenerator\n",
    "from keras.layers import Conv2D, MaxPooling2D, Flatten, Dense, Dropout"
   ]
  },
  {
   "cell_type": "code",
   "execution_count": 63,
   "id": "77d9d069",
   "metadata": {},
   "outputs": [
    {
     "name": "stderr",
     "output_type": "stream",
     "text": [
      "C:\\Users\\gsksr\\Anaconda\\lib\\site-packages\\tensorflow\\python\\client\\session.py:1769: UserWarning: An interactive session is already active. This can cause out-of-memory errors in some cases. You must explicitly call `InteractiveSession.close()` to release resources held by the other session(s).\n",
      "  warnings.warn('An interactive session is already active. This can '\n"
     ]
    }
   ],
   "source": [
    "from tensorflow.compat.v1 import ConfigProto\n",
    "from tensorflow.compat.v1 import InteractiveSession\n",
    "\n",
    "config = ConfigProto()\n",
    "config.gpu_options.per_process_gpu_memory_fraction = 0.5 #50%GPU shared memory\n",
    "config.gpu_options.allow_growth = True\n",
    "session = InteractiveSession(config=config)\n"
   ]
  },
  {
   "cell_type": "code",
   "execution_count": null,
   "id": "8e22182e",
   "metadata": {},
   "outputs": [],
   "source": []
  },
  {
   "cell_type": "code",
   "execution_count": 121,
   "id": "f1de21cc",
   "metadata": {
    "scrolled": true
   },
   "outputs": [],
   "source": [
    "img_cube2=[]\n",
    "img_cube22=[]\n",
    "image_size=500\n",
    "arrl=pd.read_csv(r'C:\\\\Users\\\\gsksr\\\\Downloads\\\\train.csv')\n",
    "arrl2=pd.read_csv(r'C:\\\\Users\\\\gsksr\\\\Downloads\\\\dataInfo.csv')\n",
    "#print(arrl.iloc[:,0])\n",
    "path =\"C:\\\\Users\\\\gsksr\\\\Downloads\\\\Data\\\\grayscale\\\\train\"\n",
    "path2 =\"C:\\\\Users\\\\gsksr\\\\Downloads\\\\Data\\\\grayscale\\\\test\"\n",
    "arrl.set_index(\"img\",inplace=True)\n",
    "arrl2.set_index(\"img\", inplace=True)\n",
    "for j in os.listdir(path):\n",
    "       # print(j)\n",
    "        if (j!='.DS_Store' and j!='.ipynb_checkpoints'):\n",
    "            img_arr=cv2.imread(os.path.join(path,j))\n",
    "            #print(np.shape(img_arr))\n",
    "            img_cube2.append([img_arr,arrl.loc[j]])\n",
    "random.shuffle(img_cube2)\n",
    "for k in os.listdir(path2):\n",
    "        if (k!='.DS_Store' and k!='.ipynb_checkpoints'):\n",
    "            img_arr2=cv2.imread(os.path.join(path2,k))\n",
    "            #print(np.shape(img_arr))\n",
    "            img_cube22.append([img_arr2,arrl2.loc[k]])\n",
    "random.shuffle(img_cube22)"
   ]
  },
  {
   "cell_type": "code",
   "execution_count": 122,
   "id": "38343f26",
   "metadata": {},
   "outputs": [],
   "source": [
    "feature1=[]\n",
    "target1=[]\n",
    "for i in img_cube2:\n",
    "    flat=i[0].flatten()\n",
    "    feature1.append(flat)\n",
    "for i in img_cube2:\n",
    "    target1.append(i[1])"
   ]
  },
  {
   "cell_type": "code",
   "execution_count": 123,
   "id": "af4eb4c9",
   "metadata": {},
   "outputs": [],
   "source": [
    "feature2=[]\n",
    "target2=[]\n",
    "for i in img_cube22:\n",
    "    flat2=i[0].flatten()\n",
    "    feature2.append(flat2)\n",
    "for i in img_cube22:\n",
    "    target2.append(i[1])"
   ]
  },
  {
   "cell_type": "code",
   "execution_count": 124,
   "id": "72aeb6ae",
   "metadata": {},
   "outputs": [],
   "source": [
    "#print(target2[0])\n",
    "target=[]\n",
    "for i in range(len(target1)):\n",
    "    for j in range(len(target1[i])):\n",
    "        if(target1[i][j]==1):\n",
    "            target.append(j+1)\n",
    "targ = np.array(target)   "
   ]
  },
  {
   "cell_type": "code",
   "execution_count": 125,
   "id": "655c0ccf",
   "metadata": {},
   "outputs": [],
   "source": [
    "#print(target2[0])\n",
    "target=[]\n",
    "for i in range(len(target2)):\n",
    "    for j in range(len(target2[i])):\n",
    "        if(target2[i][j]==1):\n",
    "            target.append(j+1)\n",
    "targ2 = np.array(target)   "
   ]
  },
  {
   "cell_type": "code",
   "execution_count": 127,
   "id": "6bcf518b",
   "metadata": {},
   "outputs": [],
   "source": [
    "x_train = feature1\n",
    "y_train = targ\n",
    "x_test = feature2\n",
    "y_test = targ2"
   ]
  },
  {
   "cell_type": "code",
   "execution_count": 128,
   "id": "7900262b",
   "metadata": {},
   "outputs": [
    {
     "name": "stderr",
     "output_type": "stream",
     "text": [
      "C:\\Users\\gsksr\\Anaconda\\lib\\site-packages\\sklearn\\linear_model\\_logistic.py:814: ConvergenceWarning: lbfgs failed to converge (status=1):\n",
      "STOP: TOTAL NO. of ITERATIONS REACHED LIMIT.\n",
      "\n",
      "Increase the number of iterations (max_iter) or scale the data as shown in:\n",
      "    https://scikit-learn.org/stable/modules/preprocessing.html\n",
      "Please also refer to the documentation for alternative solver options:\n",
      "    https://scikit-learn.org/stable/modules/linear_model.html#logistic-regression\n",
      "  n_iter_i = _check_optimize_result(\n"
     ]
    },
    {
     "name": "stdout",
     "output_type": "stream",
     "text": [
      "41.6\n",
      "53.6\n",
      "34.8\n",
      "43.2\n"
     ]
    },
    {
     "name": "stderr",
     "output_type": "stream",
     "text": [
      "C:\\Users\\gsksr\\Anaconda\\lib\\site-packages\\sklearn\\neighbors\\_classification.py:228: FutureWarning: Unlike other reduction functions (e.g. `skew`, `kurtosis`), the default behavior of `mode` typically preserves the axis it acts along. In SciPy 1.11.0, this behavior will change: the default value of `keepdims` will become False, the `axis` over which the statistic is taken will be eliminated, and the value None will no longer be accepted. Set `keepdims` to True or False to avoid this warning.\n",
      "  mode, _ = stats.mode(_y[neigh_ind, k], axis=1)\n"
     ]
    }
   ],
   "source": [
    "from sklearn.svm import SVC\n",
    "from sklearn.tree import DecisionTreeClassifier\n",
    "from sklearn.neighbors import KNeighborsClassifier\n",
    "from sklearn.linear_model import LogisticRegression\n",
    "from sklearn.metrics import accuracy_score\n",
    "\n",
    "ldg = LogisticRegression().fit(x_train,y_train)\n",
    "y_pred1=ldg.predict(x_test)\n",
    "print(accuracy_score(y_test,y_pred1)*100)\n",
    "\n",
    "csv=SVC().fit(x_train,y_train) #Parameters check. Since we flattened accuracy less. Assumes inputs as vectors. CNN Uses 2D\n",
    "y_pred=csv.predict(x_test)\n",
    "print(accuracy_score(y_test,y_pred)*100)\n",
    "\n",
    "dtc = DecisionTreeClassifier().fit(x_train,y_train)\n",
    "y_preded=dtc.predict(x_test)\n",
    "print(accuracy_score(y_test,y_preded)*100)\n",
    "\n",
    "neww = KNeighborsClassifier().fit(x_train,y_train)\n",
    "y_prededed=neww.predict(x_test)\n",
    "print(accuracy_score(y_test,y_prededed)*100)"
   ]
  },
  {
   "cell_type": "code",
   "execution_count": null,
   "id": "e0098cd8",
   "metadata": {},
   "outputs": [],
   "source": [
    "\n"
   ]
  },
  {
   "cell_type": "code",
   "execution_count": null,
   "id": "285062fb",
   "metadata": {},
   "outputs": [],
   "source": []
  },
  {
   "cell_type": "code",
   "execution_count": null,
   "id": "9005a517",
   "metadata": {},
   "outputs": [],
   "source": []
  }
 ],
 "metadata": {
  "kernelspec": {
   "display_name": "Python 3 (ipykernel)",
   "language": "python",
   "name": "python3"
  },
  "language_info": {
   "codemirror_mode": {
    "name": "ipython",
    "version": 3
   },
   "file_extension": ".py",
   "mimetype": "text/x-python",
   "name": "python",
   "nbconvert_exporter": "python",
   "pygments_lexer": "ipython3",
   "version": "3.9.13"
  }
 },
 "nbformat": 4,
 "nbformat_minor": 5
}
