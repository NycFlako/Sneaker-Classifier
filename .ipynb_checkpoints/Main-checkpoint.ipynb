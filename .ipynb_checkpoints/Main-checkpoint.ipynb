{
 "cells": [
  {
   "cell_type": "code",
   "execution_count": 3,
   "id": "3c9ebeb7",
   "metadata": {},
   "outputs": [],
   "source": [
    "#!pip3 install Pillow"
   ]
  },
  {
   "cell_type": "code",
   "execution_count": 4,
   "id": "db3b6295",
   "metadata": {},
   "outputs": [],
   "source": [
    "from __future__ import print_function, division\n",
    "from torchsummary import summary\n",
    "import os, torch, torchvision, PIL\n",
    "import pandas as pd\n",
    "from skimage import io, transform\n",
    "import numpy as np\n",
    "import matplotlib.pyplot as plt\n",
    "from torch.utils.data import Dataset, DataLoader\n",
    "from torchvision import transforms, utils\n",
    "from PIL import Image\n",
    "from tqdm import tqdm \n",
    "import torch.nn as nn "
   ]
  },
  {
   "cell_type": "markdown",
   "id": "378011b7",
   "metadata": {},
   "source": [
    "## Helper Functions"
   ]
  },
  {
   "cell_type": "code",
   "execution_count": 5,
   "id": "38db56a3",
   "metadata": {},
   "outputs": [],
   "source": [
    "def imshow(img):\n",
    "  img = img / 2 + 0.5   # unnormalize\n",
    "  npimg = img.numpy()   # convert from tensor\n",
    "  plt.imshow(np.transpose(npimg, (1, 2, 0))) \n",
    "  plt.show()\n",
    "    \n",
    "def calculate_mu_std(path):\n",
    "    files = os.listdir(path)\n",
    "    if \".DS_Store\" in files:\n",
    "        files.remove(\".DS_Store\")\n",
    "\n",
    "    if \"grayscale\" in path:\n",
    "        rgb_values = np.concatenate( [Image.open(path+img).convert('L').getdata() for img in files], axis=0) / 255.\n",
    "    # Calculating mean and std for normalization\n",
    "    else:\n",
    "        rgb_values = np.concatenate( [Image.open(path+img).getdata() for img in files], axis=0) / 255.\n",
    "\n",
    "    # rgb_values.shape == (n, 3), \n",
    "    # where n is the total number of pixels in all images, \n",
    "    # and 3 are the 3 channels: R, G, B.\n",
    "\n",
    "    # Each value is in the interval [0; 1]\n",
    "\n",
    "    mu_rgb = np.mean(rgb_values, axis=0)  # mu_rgb.shape == (3,)\n",
    "    std_rgb = np.std(rgb_values, axis=0)  # std_rgb.shape == (3,)\n",
    "    return mu_rgb, std_rgb\n",
    "\n",
    "gray_mu_std = calculate_mu_std(\"Data/grayscale/train/\")\n",
    "color_mu_std = calculate_mu_std(\"Data/color/train/\")"
   ]
  },
  {
   "cell_type": "markdown",
   "id": "b88a78ae",
   "metadata": {},
   "source": [
    "## Creating Dataset"
   ]
  },
  {
   "cell_type": "code",
   "execution_count": 9,
   "id": "4dbc2c37",
   "metadata": {},
   "outputs": [],
   "source": [
    "normalize_gray_transform = torchvision.transforms.Compose([\n",
    "                            torchvision.transforms.ToTensor(),\n",
    "                                torchvision.transforms.Normalize(mean = gray_mu_std[0],\n",
    "                                        std = gray_mu_std[1])])\n",
    "\n",
    "normalize_color_transform = torchvision.transforms.Compose([\n",
    "                            torchvision.transforms.ToTensor(),\n",
    "                                torchvision.transforms.Normalize(mean = color_mu_std[0],\n",
    "                                        std = color_mu_std[1])])\n",
    "\n",
    "# Preparing dataset class\n",
    "class SneakersDataset(Dataset):\n",
    "    \"\"\"Face Landmarks dataset.\"\"\"\n",
    "\n",
    "    def __init__(self, csv_file, root_dir, normalizer = None):\n",
    "        \"\"\"\n",
    "        Args:\n",
    "            csv_file (string): Path to the csv file with annotations.\n",
    "            root_dir (string): Directory with all the images.\n",
    "            transform (callable, optional): Optional transform to be applied\n",
    "                on a sample.\n",
    "        \"\"\"\n",
    "        self.data_csv = pd.read_csv(csv_file)\n",
    "        self.img_dir = root_dir\n",
    "        self.normalizer = normalizer\n",
    "\n",
    "        \n",
    "        #Define dataset\n",
    "        self.dataset_dir = os.path.join(os.getcwd(), root_dir)\n",
    "        self.all_filenames = os.listdir(root_dir)\n",
    "        self.all_labels = pd.read_csv(csv_file, header=0, index_col=0)\n",
    "        self.label_meanings = self.all_labels.columns.values.tolist()\n",
    "        \n",
    "        \n",
    "    def __len__(self):\n",
    "        return len(self.data_csv)-1\n",
    "\n",
    "    def __getitem__(self, idx): \n",
    "        #all normalization and data augmentation steps should be applied to the image before this method returns it.\n",
    "        '''\n",
    "        if torch.is_tensor(idx):\n",
    "            idx = idx.tolist()\n",
    "        '''\n",
    "        \n",
    "        file = self.data_csv.iloc[idx, 0]\n",
    "\n",
    "        if \"grayscale\" in self.dataset_dir:\n",
    "            imagepil = Image.open(os.path.join(self.img_dir, file)).convert('L')\n",
    "        else:\n",
    "            imagepil = Image.open(os.path.join(self.img_dir, file)).convert('RGB')\n",
    "        \n",
    "        #convert image to Tensor and normalize\n",
    "        if self.normalizer != None:\n",
    "            transform = self.normalizer\n",
    "        else:\n",
    "            transform = torchvision.transforms.ToTensor()\n",
    "        image = transform(imagepil)\n",
    "\n",
    "        label = torch.Tensor(self.all_labels.loc[file,:].values)\n",
    "        sample = {'data':image, #preprocessed image, for input into NN\n",
    "                  'label':label,\n",
    "                  'img_idx':idx}\n",
    "        \n",
    "        return sample\n",
    "\n",
    "# Getting datasets\n",
    "gray_train_dataset = SneakersDataset(csv_file='train.csv', root_dir='Data/grayscale/train/', normalizer = normalize_gray_transform)\n",
    "gray_test_dataset = SneakersDataset(csv_file='test.csv', root_dir='Data/grayscale/test/')\n",
    "color_train_dataset = SneakersDataset(csv_file='train.csv', root_dir='Data/color/train/', normalizer = normalize_color_transform)\n",
    "color_test_dataset =SneakersDataset(csv_file='test.csv', root_dir='Data/color/test/')\n",
    "\n",
    "# Getting loaders from datasets\n",
    "gray_train_loader = torch.utils.data.DataLoader(gray_train_dataset, batch_size = 40, shuffle=True)\n",
    "gray_test_loader = torch.utils.data.DataLoader(gray_test_dataset, batch_size = 40)\n",
    "color_train_loader = torch.utils.data.DataLoader(color_train_dataset, batch_size = 40, shuffle=True)\n",
    "color_test_loader = torch.utils.data.DataLoader(color_test_dataset, batch_size = 40)\n",
    "classes = ('Jordan 1', 'Jordan 2', 'Jordan 3', 'Jordan 4', 'Jordan 5')"
   ]
  },
  {
   "cell_type": "markdown",
   "id": "d641a1e9",
   "metadata": {},
   "source": [
    "## Creating the model"
   ]
  },
  {
   "cell_type": "code",
   "execution_count": 24,
   "id": "5943bfe3",
   "metadata": {},
   "outputs": [],
   "source": [
    "class CNNModel(nn.Module):\n",
    "  def __init__(self):\n",
    "    super(CNNModel, self).__init__()\n",
    "    # TODO: Create CNNModel using 2D convolution. You should vary the number of convolution layers and fully connected layers\n",
    "    # In this function, you should define each of the individual components of the CNN that you will use in your network \n",
    "    # Example:  \n",
    "    # self.cnn1 = nn.Conv2d(in_channels=3, out_channels=16, kernel_size=5, stride=1, padding=0)\n",
    "    # self.relu1 = nn.ReLU() \n",
    "    # self.maxpool1 = nn.MaxPool2d(kernel_size=2) \n",
    "    self.cnn1 = nn.Conv2d(3, 6, 5)    \n",
    "    self.relu1 = nn.ReLU()\n",
    "    self.cnn2 = nn.Conv2d(6, 7, 3)    \n",
    "    self.relu2 = nn.ReLU() \n",
    "    self.cnn3 = nn.Conv2d(7, 8, 5)    \n",
    "    self.relu3= nn.ReLU()\n",
    "    \n",
    "    # TODO: Create Fully connected layers. You should calculate the dimension of the input tensor from the previous layer \n",
    "    # Example: \n",
    "    # self.fc1 = nn.Linear(16 *110 * 110, 5)\n",
    "    # Fully connected 1\n",
    "    self.fc1 = nn.Linear(8*90*62, 5*8)\n",
    "    self.relu4 = nn.ReLU()\n",
    "    self.fc2 = nn.Linear(8*5, 84)\n",
    "    self.relu5 = nn.ReLU()\n",
    "    self.fc3 = nn.Linear(84, 5)\n",
    "    self.visualize = True\n",
    "\n",
    "  def forward(self,x):\n",
    "    # TODO: Perform forward pass in below section \n",
    "    # In this function, you will apply the components defined earlier to the input, x.\n",
    "    # Example:\n",
    "    # out = self.cnn1(x)\n",
    "    # out = self.relu1(out)      \n",
    "    # out = self.maxpool1(out) \n",
    "    # to visualize feature map in part a, part b.i), use the following three lines:\n",
    "    first = self.relu1(self.cnn1(x))\n",
    "    out = self.relu2(self.cnn2(first))\n",
    "        \n",
    "    '''\n",
    "    if self.visualize:\n",
    "        plt.imshow(out[0][0].cpu().detach().numpy())\n",
    "        plt.show()\n",
    "        plt.close('all')\n",
    "        self.visualize = False\n",
    "    '''\n",
    "    third = self.relu3(self.cnn3(out))\n",
    "    fourth = self.relu4(self.fc1(torch.flatten(third, 1)))\n",
    "    fifth = self.relu5(self.fc2(fourth))\n",
    "  \n",
    "    # plt.imshow(out[0][0].cpu().detach().numpy())\n",
    "    # plt.show()\n",
    "    # plt.close('all')\n",
    "    # out = out.view(out.size(0), -1)\n",
    "    # out = self.fc1(out)\n",
    "    \n",
    "    return self.fc3(fifth)\n",
    "\n",
    "# Create CNN\n",
    "device = \"cuda\" if torch.cuda.is_available() else \"cpu\"\n",
    "model = CNNModel()\n",
    "model.to(device)\n",
    "\n",
    "# TODO: define Cross Entropy Loss \n",
    "error = nn.CrossEntropyLoss()\n",
    "\n",
    "# TODO: create Adam Optimizer and define your hyperparameters \n",
    "learning_rate = 10**-3\n",
    "optimizer = torch.optim.Adam(model.parameters(), lr=learning_rate)\n",
    "num_epochs = 100"
   ]
  },
  {
   "cell_type": "markdown",
   "id": "c4a7cdff",
   "metadata": {},
   "source": [
    "## Training and testing the model"
   ]
  },
  {
   "cell_type": "code",
   "execution_count": 25,
   "id": "c6c05a5b",
   "metadata": {},
   "outputs": [
    {
     "name": "stderr",
     "output_type": "stream",
     "text": [
      "  4%|███▎                                                                              | 4/100 [00:17<07:08,  4.47s/it]"
     ]
    },
    {
     "name": "stdout",
     "output_type": "stream",
     "text": [
      "Iteration: 200  Loss: 0.4723767638206482  Accuracy: 37.3831787109375 %\n"
     ]
    },
    {
     "name": "stderr",
     "output_type": "stream",
     "text": [
      "  9%|███████▍                                                                          | 9/100 [00:39<06:31,  4.30s/it]"
     ]
    },
    {
     "name": "stdout",
     "output_type": "stream",
     "text": [
      "Iteration: 400  Loss: 0.004531380254775286  Accuracy: 40.72096252441406 %\n"
     ]
    },
    {
     "name": "stderr",
     "output_type": "stream",
     "text": [
      " 13%|██████████▌                                                                      | 13/100 [00:57<06:32,  4.52s/it]"
     ]
    },
    {
     "name": "stdout",
     "output_type": "stream",
     "text": [
      "Iteration: 600  Loss: 0.00039005628786981106  Accuracy: 42.323097229003906 %\n"
     ]
    },
    {
     "name": "stderr",
     "output_type": "stream",
     "text": [
      " 18%|██████████████▌                                                                  | 18/100 [01:19<05:59,  4.38s/it]"
     ]
    },
    {
     "name": "stdout",
     "output_type": "stream",
     "text": [
      "Iteration: 800  Loss: 0.0002023158158408478  Accuracy: 42.323097229003906 %\n"
     ]
    },
    {
     "name": "stderr",
     "output_type": "stream",
     "text": [
      " 22%|█████████████████▊                                                               | 22/100 [01:37<05:41,  4.37s/it]"
     ]
    },
    {
     "name": "stdout",
     "output_type": "stream",
     "text": [
      "Iteration: 1000  Loss: 0.0005405388656072319  Accuracy: 42.99065399169922 %\n"
     ]
    },
    {
     "name": "stderr",
     "output_type": "stream",
     "text": [
      " 27%|█████████████████████▊                                                           | 27/100 [01:58<05:07,  4.21s/it]"
     ]
    },
    {
     "name": "stdout",
     "output_type": "stream",
     "text": [
      "Iteration: 1200  Loss: 0.00010250873310724273  Accuracy: 43.92523193359375 %\n"
     ]
    },
    {
     "name": "stderr",
     "output_type": "stream",
     "text": [
      " 31%|█████████████████████████                                                        | 31/100 [02:15<04:58,  4.32s/it]"
     ]
    },
    {
     "name": "stdout",
     "output_type": "stream",
     "text": [
      "Iteration: 1400  Loss: 0.0001833623682614416  Accuracy: 44.325767517089844 %\n"
     ]
    },
    {
     "name": "stderr",
     "output_type": "stream",
     "text": [
      " 36%|█████████████████████████████▏                                                   | 36/100 [02:36<04:31,  4.24s/it]"
     ]
    },
    {
     "name": "stdout",
     "output_type": "stream",
     "text": [
      "Iteration: 1600  Loss: 8.715992589714006e-05  Accuracy: 44.058746337890625 %\n"
     ]
    },
    {
     "name": "stderr",
     "output_type": "stream",
     "text": [
      " 40%|████████████████████████████████▍                                                | 40/100 [02:54<04:19,  4.33s/it]"
     ]
    },
    {
     "name": "stdout",
     "output_type": "stream",
     "text": [
      "Iteration: 1800  Loss: 0.00016355350089725107  Accuracy: 44.192256927490234 %\n"
     ]
    },
    {
     "name": "stderr",
     "output_type": "stream",
     "text": [
      " 45%|████████████████████████████████████▍                                            | 45/100 [03:15<03:58,  4.33s/it]"
     ]
    },
    {
     "name": "stdout",
     "output_type": "stream",
     "text": [
      "Iteration: 2000  Loss: 5.7648187066661194e-05  Accuracy: 44.192256927490234 %\n"
     ]
    },
    {
     "name": "stderr",
     "output_type": "stream",
     "text": [
      " 50%|████████████████████████████████████████▌                                        | 50/100 [03:37<03:38,  4.37s/it]"
     ]
    },
    {
     "name": "stdout",
     "output_type": "stream",
     "text": [
      "Iteration: 2200  Loss: 2.243477683805395e-05  Accuracy: 43.52470016479492 %\n"
     ]
    },
    {
     "name": "stderr",
     "output_type": "stream",
     "text": [
      " 54%|███████████████████████████████████████████▋                                     | 54/100 [03:54<03:17,  4.29s/it]"
     ]
    },
    {
     "name": "stdout",
     "output_type": "stream",
     "text": [
      "Iteration: 2400  Loss: 0.0025595971383154392  Accuracy: 43.12416458129883 %\n"
     ]
    },
    {
     "name": "stderr",
     "output_type": "stream",
     "text": [
      " 59%|███████████████████████████████████████████████▊                                 | 59/100 [04:15<02:49,  4.14s/it]"
     ]
    },
    {
     "name": "stdout",
     "output_type": "stream",
     "text": [
      "Iteration: 2600  Loss: 0.003532098140567541  Accuracy: 44.59278869628906 %\n"
     ]
    },
    {
     "name": "stderr",
     "output_type": "stream",
     "text": [
      " 63%|███████████████████████████████████████████████████                              | 63/100 [04:32<02:40,  4.33s/it]"
     ]
    },
    {
     "name": "stdout",
     "output_type": "stream",
     "text": [
      "Iteration: 2800  Loss: 0.00013904893421567976  Accuracy: 41.92256164550781 %\n"
     ]
    },
    {
     "name": "stderr",
     "output_type": "stream",
     "text": [
      " 68%|███████████████████████████████████████████████████████                          | 68/100 [04:54<02:15,  4.23s/it]"
     ]
    },
    {
     "name": "stdout",
     "output_type": "stream",
     "text": [
      "Iteration: 3000  Loss: 6.458881398430094e-05  Accuracy: 42.85714340209961 %\n"
     ]
    },
    {
     "name": "stderr",
     "output_type": "stream",
     "text": [
      " 72%|██████████████████████████████████████████████████████████▎                      | 72/100 [05:11<02:01,  4.34s/it]"
     ]
    },
    {
     "name": "stdout",
     "output_type": "stream",
     "text": [
      "Iteration: 3200  Loss: 3.993184145656414e-05  Accuracy: 43.39118957519531 %\n"
     ]
    },
    {
     "name": "stderr",
     "output_type": "stream",
     "text": [
      " 77%|██████████████████████████████████████████████████████████████▎                  | 77/100 [05:32<01:36,  4.20s/it]"
     ]
    },
    {
     "name": "stdout",
     "output_type": "stream",
     "text": [
      "Iteration: 3400  Loss: 7.267655018949881e-05  Accuracy: 44.325767517089844 %\n"
     ]
    },
    {
     "name": "stderr",
     "output_type": "stream",
     "text": [
      " 81%|█████████████████████████████████████████████████████████████████▌               | 81/100 [05:50<01:22,  4.33s/it]"
     ]
    },
    {
     "name": "stdout",
     "output_type": "stream",
     "text": [
      "Iteration: 3600  Loss: 1.3844537534168921e-05  Accuracy: 44.325767517089844 %\n"
     ]
    },
    {
     "name": "stderr",
     "output_type": "stream",
     "text": [
      " 86%|█████████████████████████████████████████████████████████████████████▋           | 86/100 [06:11<00:59,  4.24s/it]"
     ]
    },
    {
     "name": "stdout",
     "output_type": "stream",
     "text": [
      "Iteration: 3800  Loss: 3.883691897499375e-05  Accuracy: 44.85981369018555 %\n"
     ]
    },
    {
     "name": "stderr",
     "output_type": "stream",
     "text": [
      " 90%|████████████████████████████████████████████████████████████████████████▉        | 90/100 [06:28<00:43,  4.35s/it]"
     ]
    },
    {
     "name": "stdout",
     "output_type": "stream",
     "text": [
      "Iteration: 4000  Loss: 3.505941276671365e-05  Accuracy: 43.92523193359375 %\n"
     ]
    },
    {
     "name": "stderr",
     "output_type": "stream",
     "text": [
      " 95%|████████████████████████████████████████████████████████████████████████████▉    | 95/100 [06:49<00:21,  4.30s/it]"
     ]
    },
    {
     "name": "stdout",
     "output_type": "stream",
     "text": [
      "Iteration: 4200  Loss: 0.00010889924305956811  Accuracy: 44.325767517089844 %\n"
     ]
    },
    {
     "name": "stderr",
     "output_type": "stream",
     "text": [
      "100%|████████████████████████████████████████████████████████████████████████████████| 100/100 [07:11<00:00,  4.32s/it]"
     ]
    },
    {
     "name": "stdout",
     "output_type": "stream",
     "text": [
      "Iteration: 4400  Loss: 7.409546378767118e-05  Accuracy: 44.59278869628906 %\n"
     ]
    },
    {
     "name": "stderr",
     "output_type": "stream",
     "text": [
      "\n"
     ]
    }
   ],
   "source": [
    "count = 0\n",
    "loss_list = []\n",
    "iteration_list = []\n",
    "accuracy_list = []\n",
    "for epoch in tqdm(range(num_epochs)):\n",
    "    model.train()\n",
    "    for i, info in enumerate(color_train_loader):\n",
    "        images, labels = info[\"data\"], info['label']\n",
    "        images, labels = images.to(device), labels.to(device)\n",
    "        \n",
    "        # Clear gradients\n",
    "        optimizer.zero_grad()\n",
    "        \n",
    "        # TODO: Forward propagation\n",
    "        outputs = model(images)\n",
    "        \n",
    "        # TODO: Calculate softmax and cross entropy loss\n",
    "        loss = error(outputs, labels)\n",
    "        \n",
    "        # Backprop agate your Loss \n",
    "        loss.backward()\n",
    "        \n",
    "        # Update CNN model  \n",
    "        optimizer.step()\n",
    "        \n",
    "        count += 1\n",
    "        \n",
    "        if count % 50 == 0:\n",
    "            model.eval()\n",
    "            # Calculate Accuracy         \n",
    "            correct = 0\n",
    "            total = 0\n",
    "            # Iterate through test dataset\n",
    "            for info in color_test_loader:\n",
    "                images, labels = info[\"data\"], info[\"label\"]\n",
    "                images, labels = images.to(device), labels.to(device)\n",
    "                \n",
    "                # Forward propagation\n",
    "                outputs = model(images)\n",
    "                \n",
    "                # Get predictions from the maximum value\n",
    "\n",
    "                predicted = torch.argmax(outputs,1)\n",
    "                true_labels = torch.argmax(labels, 1)\n",
    "                # Total number of labels\n",
    "                total += len(true_labels)\n",
    "                \n",
    "                correct += (predicted == true_labels).sum()\n",
    "            \n",
    "            accuracy = 100 * correct / float(total)\n",
    "            \n",
    "            # store loss and iteration\n",
    "            loss_list.append(loss.item())\n",
    "            iteration_list.append(count)\n",
    "            accuracy_list.append(accuracy.item())\n",
    "        if count % 200 == 0:\n",
    "            # Print Loss\n",
    "            print('Iteration: {}  Loss: {}  Accuracy: {} %'.format(count, loss.data, accuracy))"
   ]
  },
  {
   "cell_type": "code",
   "execution_count": 26,
   "id": "998fa9ec",
   "metadata": {},
   "outputs": [
    {
     "name": "stdout",
     "output_type": "stream",
     "text": [
      "----------------------------------------------------------------\n",
      "        Layer (type)               Output Shape         Param #\n",
      "================================================================\n",
      "            Conv2d-1            [-1, 6, 96, 68]             456\n",
      "              ReLU-2            [-1, 6, 96, 68]               0\n",
      "            Conv2d-3            [-1, 7, 94, 66]             385\n",
      "              ReLU-4            [-1, 7, 94, 66]               0\n",
      "            Conv2d-5            [-1, 8, 90, 62]           1,408\n",
      "              ReLU-6            [-1, 8, 90, 62]               0\n",
      "            Linear-7                   [-1, 40]       1,785,640\n",
      "              ReLU-8                   [-1, 40]               0\n",
      "            Linear-9                   [-1, 84]           3,444\n",
      "             ReLU-10                   [-1, 84]               0\n",
      "           Linear-11                    [-1, 5]             425\n",
      "================================================================\n",
      "Total params: 1,791,758\n",
      "Trainable params: 1,791,758\n",
      "Non-trainable params: 0\n",
      "----------------------------------------------------------------\n",
      "Input size (MB): 0.08\n",
      "Forward/backward pass size (MB): 1.94\n",
      "Params size (MB): 6.84\n",
      "Estimated Total Size (MB): 8.86\n",
      "----------------------------------------------------------------\n",
      "None\n"
     ]
    },
    {
     "data": {
      "image/png": "[encoded data removed]",
      "text/plain": [
       "<Figure size 640x480 with 1 Axes>"
      ]
     },
     "metadata": {},
     "output_type": "display_data"
    },
    {
     "data": {
      "image/png": "[encoded data removed]",
      "text/plain": [
       "<Figure size 640x480 with 1 Axes>"
      ]
     },
     "metadata": {},
     "output_type": "display_data"
    }
   ],
   "source": [
    "print(summary(model, (3, 100, 72)))\n",
    "\n",
    "# visualization loss\n",
    "plt.plot(iteration_list,loss_list)\n",
    "plt.xlabel(\"Number of iteration\")\n",
    "plt.ylabel(\"Loss\")\n",
    "plt.title(\"CNN: Loss vs Number of iteration\")\n",
    "plt.show()\n",
    "\n",
    "# visualization accuracy \n",
    "plt.plot(iteration_list,accuracy_list,color = \"red\")\n",
    "plt.xlabel(\"Number of iteration\")\n",
    "plt.ylabel(\"Accuracy\")\n",
    "plt.title(\"CNN: Accuracy vs Number of iteration\")\n",
    "plt.show()"
   ]
  },
  {
   "cell_type": "markdown",
   "id": "0b7b1f7c",
   "metadata": {},
   "source": [
    "## Creating Gray Model"
   ]
  },
  {
   "cell_type": "code",
   "execution_count": null,
   "id": "adf393e6",
   "metadata": {},
   "outputs": [],
   "source": [
    "class CNNGrayModel(nn.Module):\n",
    "  def __init__(self):\n",
    "    super(CNNGrayModel, self).__init__()\n",
    "    # TODO: Create CNNModel using 2D convolution. You should vary the number of convolution layers and fully connected layers\n",
    "    # In this function, you should define each of the individual components of the CNN that you will use in your network \n",
    "    # Example:  \n",
    "    # self.cnn1 = nn.Conv2d(in_channels=3, out_channels=16, kernel_size=5, stride=1, padding=0)\n",
    "    # self.relu1 = nn.ReLU() \n",
    "    # self.maxpool1 = nn.MaxPool2d(kernel_size=2) \n",
    "    self.cnn1 = nn.Conv2d(1, 2, 5)    \n",
    "    self.relu1 = nn.ReLU()\n",
    "    self.cnn2 = nn.Conv2d(2, 3, 3)    \n",
    "    self.relu2 = nn.ReLU() \n",
    "    self.cnn3 = nn.Conv2d(3, 5, 5)    \n",
    "    self.relu3= nn.ReLU()\n",
    "    \n",
    "    # TODO: Create Fully connected layers. You should calculate the dimension of the input tensor from the previous layer \n",
    "    # Example: \n",
    "    # self.fc1 = nn.Linear(16 *110 * 110, 5)\n",
    "    # Fully connected 1\n",
    "    self.fc1 = nn.Linear(5*90*62, 5*5)\n",
    "    self.relu4 = nn.ReLU()\n",
    "    self.fc2 = nn.Linear(5*5, 84)\n",
    "    self.relu5 = nn.ReLU()\n",
    "    self.fc3 = nn.Linear(84, 5)\n",
    "    self.visualize = True\n",
    "\n",
    "  def forward(self,x):\n",
    "    # TODO: Perform forward pass in below section \n",
    "    # In this function, you will apply the components defined earlier to the input, x.\n",
    "    # Example:\n",
    "    # out = self.cnn1(x)\n",
    "    # out = self.relu1(out)      \n",
    "    # out = self.maxpool1(out) \n",
    "    # to visualize feature map in part a, part b.i), use the following three lines:\n",
    "    first = self.relu1(self.cnn1(x))\n",
    "    out = self.relu2(self.cnn2(first))\n",
    "        \n",
    "    '''\n",
    "    if self.visualize:\n",
    "        plt.imshow(out[0][0].cpu().detach().numpy())\n",
    "        plt.show()\n",
    "        plt.close('all')\n",
    "        self.visualize = False\n",
    "    '''\n",
    "    third = self.relu3(self.cnn3(out))\n",
    "    fourth = self.relu4(self.fc1(torch.flatten(third, 1)))\n",
    "    fifth = self.relu5(self.fc2(fourth))\n",
    "  \n",
    "    # plt.imshow(out[0][0].cpu().detach().numpy())\n",
    "    # plt.show()\n",
    "    # plt.close('all')\n",
    "    # out = out.view(out.size(0), -1)\n",
    "    # out = self.fc1(out)\n",
    "    \n",
    "    return self.fc3(fifth)\n",
    "\n",
    "# Create CNN\n",
    "device = \"cuda\" if torch.cuda.is_available() else \"cpu\"\n",
    "gray_model = CNNGrayModel()\n",
    "gray_model.to(device)\n",
    "\n",
    "# TODO: define Cross Entropy Loss \n",
    "error = nn.CrossEntropyLoss()\n",
    "\n",
    "# TODO: create Adam Optimizer and define your hyperparameters \n",
    "learning_rate = 10**-3\n",
    "gray_optimizer = torch.optim.Adam(gray_model.parameters(), lr=learning_rate)\n",
    "num_epochs = 100"
   ]
  },
  {
   "cell_type": "markdown",
   "id": "652d4c42",
   "metadata": {},
   "source": [
    "## Training and Testing"
   ]
  },
  {
   "cell_type": "code",
   "execution_count": null,
   "id": "09c6607e",
   "metadata": {},
   "outputs": [],
   "source": [
    "count = 0\n",
    "loss_list = []\n",
    "iteration_list = []\n",
    "accuracy_list = []\n",
    "for epoch in tqdm(range(num_epochs)):\n",
    "    gray_model.train()\n",
    "    for i, info in enumerate(gray_train_loader):\n",
    "        images, labels = info[\"data\"], info['label']\n",
    "        images, labels = images.to(device), labels.to(device)\n",
    "        \n",
    "        # Clear gradients\n",
    "        gray_optimizer.zero_grad()\n",
    "        \n",
    "        # TODO: Forward propagation\n",
    "        outputs = gray_model(images)\n",
    "        \n",
    "        # TODO: Calculate softmax and cross entropy loss\n",
    "        loss = error(outputs, labels)\n",
    "        \n",
    "        # Backprop agate your Loss \n",
    "        loss.backward()\n",
    "        \n",
    "        # Update CNN model  \n",
    "        gray_optimizer.step()\n",
    "        \n",
    "        count += 1\n",
    "        \n",
    "        if count % 50 == 0:\n",
    "            gray_model.eval()\n",
    "            # Calculate Accuracy         \n",
    "            correct = 0\n",
    "            total = 0\n",
    "            # Iterate through test dataset\n",
    "            for info in gray_test_loader:\n",
    "                images, labels = info[\"data\"], info[\"label\"]\n",
    "                images, labels = images.to(device), labels.to(device)\n",
    "                \n",
    "                # Forward propagation\n",
    "                outputs = gray_model(images)\n",
    "                \n",
    "                # Get predictions from the maximum value\n",
    "\n",
    "                predicted = torch.argmax(outputs,1)\n",
    "                true_labels = torch.argmax(labels, 1)\n",
    "                # Total number of labels\n",
    "                total += len(true_labels)\n",
    "                \n",
    "                correct += (predicted == true_labels).sum()\n",
    "            \n",
    "            accuracy = 100 * correct / float(total)\n",
    "            \n",
    "            # store loss and iteration\n",
    "            loss_list.append(loss.item())\n",
    "            iteration_list.append(count)\n",
    "            accuracy_list.append(accuracy.item())\n",
    "        if count % 200 == 0:\n",
    "            # Print Loss\n",
    "            print('Iteration: {}  Loss: {}  Accuracy: {} %'.format(count, loss.data, accuracy))"
   ]
  },
  {
   "cell_type": "code",
   "execution_count": null,
   "id": "b8a30857",
   "metadata": {},
   "outputs": [],
   "source": [
    "print(summary(gray_model, (1, 100, 72)))\n",
    "\n",
    "# visualization loss\n",
    "plt.plot(iteration_list,loss_list)\n",
    "plt.xlabel(\"Number of iteration\")\n",
    "plt.ylabel(\"Loss\")\n",
    "plt.title(\"CNN: Loss vs Number of iteration\")\n",
    "plt.show()\n",
    "\n",
    "# visualization accuracy \n",
    "plt.plot(iteration_list,accuracy_list,color = \"red\")\n",
    "plt.xlabel(\"Number of iteration\")\n",
    "plt.ylabel(\"Accuracy\")\n",
    "plt.title(\"CNN: Accuracy vs Number of iteration\")\n",
    "plt.show()"
   ]
  }
 ],
 "metadata": {
  "kernelspec": {
   "display_name": "Python 3 (ipykernel)",
   "language": "python",
   "name": "python3"
  },
  "language_info": {
   "codemirror_mode": {
    "name": "ipython",
    "version": 3
   },
   "file_extension": ".py",
   "mimetype": "text/x-python",
   "name": "python",
   "nbconvert_exporter": "python",
   "pygments_lexer": "ipython3",
   "version": "3.9.1"
  }
 },
 "nbformat": 4,
 "nbformat_minor": 5
}
